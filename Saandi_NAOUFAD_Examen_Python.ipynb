{
  "nbformat": 4,
  "nbformat_minor": 0,
  "metadata": {
    "colab": {
      "name": "Saandi NAOUFAD Examen Python.ipynb",
      "provenance": [],
      "collapsed_sections": []
    },
    "kernelspec": {
      "name": "python3",
      "display_name": "Python 3"
    },
    "language_info": {
      "name": "python"
    }
  },
  "cells": [
    {
      "cell_type": "markdown",
      "source": [
        "Cet examen consiste à mettre en application les notions de programmation Python et de versionning de code étudié au S1.1. Les supports des cours et la documentation Python sont autorisés. Aucun rendu ne sera corrigé s'il est rendu 3h00 après le début de l'examen. Tout rendu identique où jugé fortement similaire ne sera pas corrigé.\n",
        "\n",
        "1. Création de fonction mathématique simple en Python (12 points) :\n",
        "\n",
        "Dans cette partie, vous devrez implémenter en Python les fonctions ci-dessous :\n",
        "a) Implémenter la fonction polynomiale ci-dessous :\n"
      ],
      "metadata": {
        "id": "oew142CIZbmc"
      }
    },
    {
      "cell_type": "code",
      "source": [
        "# Fonction polynomiale \n",
        "\n",
        "def Polynome(x):\n",
        "  \"\"\"\n",
        "  Entrée: paramettre x\n",
        "  Role: Fonction qui retourne la valeur d'un polynome \n",
        "  Sortie: La valeur d'un polynome f, de type double \n",
        "  \"\"\"\n",
        "  f=x**3-1.5*x**2-6*x+5\n",
        "  return f\n",
        "Polynome(5)"
      ],
      "metadata": {
        "colab": {
          "base_uri": "https://localhost:8080/"
        },
        "id": "UgxVAB6GZqSj",
        "outputId": "1a5c99b2-3e8f-47e5-bb46-895643e79ec6"
      },
      "execution_count": 11,
      "outputs": [
        {
          "output_type": "execute_result",
          "data": {
            "text/plain": [
              "62.5"
            ]
          },
          "metadata": {},
          "execution_count": 11
        }
      ]
    },
    {
      "cell_type": "markdown",
      "source": [
        "b) Implémenter la fonction factorielle (Approche récursive ou classique) :"
      ],
      "metadata": {
        "id": "pQKoc2wpcsvH"
      }
    },
    {
      "cell_type": "code",
      "source": [
        "# Fonction factoriel, approche classique, iterative \n",
        "def factorielle(n):\n",
        "  \"\"\"\n",
        "  Entrée: param \"n\" un entier naturelle \n",
        "  Role: fonction qui calcule le factorielle d'un entier naturel \n",
        "  Sortie: le factoriel d'un entier naturel \n",
        "  \"\"\"\n",
        "  if n == 0:\n",
        "      return 1\n",
        "  else:\n",
        "    fac = 1\n",
        "    for i in range(2,n+1):\n",
        "        fac = fac*i\n",
        "\n",
        "    return fac\n",
        "factorielle(5)"
      ],
      "metadata": {
        "colab": {
          "base_uri": "https://localhost:8080/"
        },
        "id": "ja5XZuU5crj8",
        "outputId": "905b535d-ab88-4021-98d9-5272e8a9b6e7"
      },
      "execution_count": 13,
      "outputs": [
        {
          "output_type": "execute_result",
          "data": {
            "text/plain": [
              "120"
            ]
          },
          "metadata": {},
          "execution_count": 13
        }
      ]
    },
    {
      "cell_type": "markdown",
      "source": [
        "c) Implémenter la suite de Fibonnaci\n",
        "\n",
        "La suite de Fibonacci est une suite de nombres entiers de 0, 1, 1, 2, 3, 5, 8 ….\n",
        "Les deux premiers termes sont 0 et 1. Tous les autres termes sont obtenus en ajoutant les deux termes précédents. Cela signifie que le nième terme est la somme des (n-1)ème et (n-2)ème terme."
      ],
      "metadata": {
        "id": "vN3sPNqzeEXi"
      }
    },
    {
      "cell_type": "code",
      "source": [
        "#Suite de fibonacci, approche recursive \n",
        "def fibonacci(n):\n",
        "    \"\"\"\n",
        "    Entrée: param n, un entier naturel \n",
        "    Rôle: il s'agit d'une fonction recusive qui calcul le terme de la suite de Fibonacci connaissant le rang n\n",
        "    Sortie: Le terme de la suite de Fobonacci au rang n\n",
        "    \"\"\"\n",
        "    if(n <= 1):\n",
        "        return n\n",
        "    else:\n",
        "        return (fibonacci(n-1) + fibonacci(n-2))\n",
        "\n",
        "#Code qui demande à l'utilisateur d'entrée le rang n\n",
        "n = int(input(\"Entrez le nombre :\"))\n",
        "\n",
        "#Code qui affiche les termes d'une suite de fibonacci\n",
        "print(\"La suite de Fibonacci est :\")\n",
        "for k in range(n):\n",
        "    print(fibonacci(k),end=\", \")"
      ],
      "metadata": {
        "colab": {
          "base_uri": "https://localhost:8080/"
        },
        "id": "U_hXYQzVeJRk",
        "outputId": "34a98743-dd71-4fc0-e008-8b7d1cfa83a8"
      },
      "execution_count": 28,
      "outputs": [
        {
          "output_type": "stream",
          "name": "stdout",
          "text": [
            "Entrez le nombre :6\n",
            "La suite de Fibonacci est :\n",
            "0, 1, 1, 2, 3, 5, "
          ]
        }
      ]
    },
    {
      "cell_type": "markdown",
      "source": [
        "2. Création de fonction comportant des modules de gestions des exceptions (5 points) :\n",
        "\n",
        "En utilisant l’une des trois fonctions mathématiques précédentes, implémenter un script permettant de gérer les exceptions pours les cas suivants :\n",
        " - Saisie d'une chaine de caractère dans les arguments de la fonction \n",
        " - Saisie un nombre complexe \n",
        " - Saisie d'un nombre négatif \n",
        " - Saisie d'un très grand nombre\n",
        " - Saisie d'un très petit nombre "
      ],
      "metadata": {
        "id": "DgcWzZ3fnvlC"
      }
    },
    {
      "cell_type": "code",
      "source": [
        "#Dans cet exercice, nous allons prendre la fonction fibonacci\n",
        "def fibonacci(n):\n",
        "    \"\"\"\n",
        "    Entrée: param n, un entier naturel \n",
        "    Rôle: il s'agit d'une fonction recusive qui calcul le terme de la suite de Fibonacci connaissant le rang n\n",
        "    Sortie: Le terme de la suite de Fobonacci au rang n\n",
        "    \"\"\"\n",
        "    ########## Cas 1: l'utilisateur saisie une chaine de caractère \n",
        "    if type(n)==str:\n",
        "      #print(\"Veillez saisir un nombre entier s'il vous plait !\")\n",
        "      while type(n) == str: #Execute ce code suivant, tant que n est une chaine de caractère\n",
        "        try:\n",
        "            n = int(input(\"Entrer un entier s'il vous plait\")) #Saisir une valeur de n et le transformer en entier\n",
        "        except ValueError:   # Si nous avons cet exception, alors execute le code suivant\n",
        "            print(n,\" est une chaine de caractère et non pas un entier.\\n\")\n",
        "\n",
        "    ########## Cas 2: l'utilisateur saisie un nombre complexe positif ou negatif\n",
        "    if type(n)==complex:\n",
        "       n = int(abs(n.real)) # Nous prenons seulement la partie réel de n et nous le convertissons en entier en valeur absolue\n",
        "    \n",
        "    ########## Cas 3: l'utilisateur saisie un nombre réel negatif\n",
        "    if n<0:\n",
        "       n = int(abs(n)) #Nous prenons la valeur absolue convertie en entier naturel\n",
        "    \n",
        "    ##### Cas 3: L'utilisateur entre un nombre n très grand et dont la longueur est au-dessus de 16 \n",
        "    while len(str(n)) >16:  #Execute ce code tanque longeur de n variables est > à 16\n",
        "      n = int(input(\"Entrer un nombre entier dont le nombre de chiffre est inferieur à 16\\n\"))\n",
        "\n",
        "    #### Cas 4: l'utilisateur entre un nombre très petit \n",
        "    \"\"\"\n",
        "    Ce cas est déjà géré lorsque le nombre entrée est inférieur 0.  \n",
        "    \"\"\"\n",
        "    if(n <= 1):\n",
        "        return n\n",
        "    else:\n",
        "        return (fibonacci(n-1) + fibonacci(n-2))\n",
        "\n",
        "fibonacci(\"iii\")     "
      ],
      "metadata": {
        "colab": {
          "base_uri": "https://localhost:8080/"
        },
        "id": "QTkxEbGSoA_V",
        "outputId": "d97db364-5706-46c0-912f-a67017fccba7"
      },
      "execution_count": 38,
      "outputs": [
        {
          "name": "stdout",
          "output_type": "stream",
          "text": [
            "Entrer un entier s'il vous plait1298765434567898765\n",
            "Entrer un nombre entier dont le nombre de chiffre est inferieur à 16\n",
            "5\n"
          ]
        },
        {
          "output_type": "execute_result",
          "data": {
            "text/plain": [
              "5"
            ]
          },
          "metadata": {},
          "execution_count": 38
        }
      ]
    },
    {
      "cell_type": "markdown",
      "source": [
        "3. Question Bonus : Implémentation de la formule Pricer d’option avec Python"
      ],
      "metadata": {
        "id": "FORFAHd6wtOM"
      }
    },
    {
      "cell_type": "code",
      "source": [
        "import numpy as np\n",
        "\n",
        "def d1(S,K,X,T,r,sig):\n",
        "    \"\"\"\n",
        "    Entrée: \n",
        "          S = Prix actuel de l’action\n",
        "          X = Prix d’exercice de l’option \n",
        "          T = Temps restant avant l’expiration de l’option, en pourcentage d’une année \n",
        "          r = Taux d’intérêt sans risque \n",
        "          σ = sig: volatilité implicite du prix de l’action, mesurée par un décimal\n",
        "    Role: cette fonction sera appelé lors du calcul d'un Call ou Put dans la formule du modèle Black-Scholes-Merton\n",
        "    Sortie: Paramettre d1 utilisé dans la tarification d'un Call ou Put\n",
        "\n",
        "    \"\"\"\n",
        "    return (np.log(S/K)+(r+sig**2/2)*T)/(sig*np.sqrt(T))\n",
        "\n",
        "def d2(S,K,T,r,sig):\n",
        "    \"\"\"\n",
        "    Entrée: \n",
        "          S = Prix actuel de l’action\n",
        "          X = Prix d’exercice de l’option \n",
        "          T = Temps restant avant l’expiration de l’option, en pourcentage d’une année \n",
        "          r = Taux d’intérêt sans risque \n",
        "          σ = sig: volatilité implicite du prix de l’action, mesurée par un décimal\n",
        "    Role: cette fonction sera appelé lors du calcul d'un Call ou Put dans la formule du modèle Black-Scholes-Merton\n",
        "    Sortie: Paramettre d2 utilisé dans la tarification d'un Call ou Put\n",
        "\n",
        "    \"\"\"\n",
        "    return d1(S,K,T,r,sig)-sig*np.sqrt(T)\n",
        "\n",
        "def callOption(S,N,X,r,T):\n",
        "    \"\"\"\n",
        "      Entrée: \n",
        "            S = Prix actuel de l’action\n",
        "            X = Prix d’exercice de l’option \n",
        "            T = Temps restant avant l’expiration de l’option, en pourcentage d’une année \n",
        "            r = Taux d’intérêt sans risque \n",
        "            N = Maturité, c'est à dire le moment où on peut effectuer l'achat \n",
        "      Role: Il s'agit de la formule du modèle Black-Scholes-Merton utilisé pour le calcul du prix d'une option de type call\n",
        "      Sortie: Le prix d'une option de type call\n",
        "\n",
        "      \"\"\"\n",
        "    return (S*N(d1)-X*np.exp(-r*T)*N(d2))\n",
        "\n",
        "def putOption(S,N,X,r,T):\n",
        "  \"\"\"\n",
        "      Entrée: \n",
        "            S = Prix actuel de l’action\n",
        "            X = Prix d’exercice de l’option \n",
        "            T = Temps restant avant l’expiration de l’option, en pourcentage d’une année \n",
        "            r = Taux d’intérêt sans risque \n",
        "            N = Maturité, c'est à dire le moment où on peut effectuer l'exercice\n",
        "      Role: Il s'agit de la formule du modèle Black-Scholes-Merton utilisé pour le calcul du prix d'une option de type Put \n",
        "      Sortie: Le prix d'une option de type Put\n",
        "\n",
        "      \"\"\"\n",
        "  return((X*np.exp(-r*T)*N(-d2)-(S*N(-d1))))"
      ],
      "metadata": {
        "id": "SWfMaaqywb6q"
      },
      "execution_count": 39,
      "outputs": []
    }
  ]
}